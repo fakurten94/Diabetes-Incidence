{
 "cells": [
  {
   "cell_type": "markdown",
   "id": "30a71d65",
   "metadata": {},
   "source": [
    "# Extracting Diabetes Data"
   ]
  },
  {
   "cell_type": "code",
   "execution_count": 78,
   "id": "a0e95017",
   "metadata": {},
   "outputs": [],
   "source": [
    "import time\n",
    "from selenium import webdriver\n",
    "from selenium.webdriver.support.ui import Select\n",
    "from selenium.webdriver.support.ui import WebDriverWait\n",
    "from selenium.webdriver.support import expected_conditions as EC\n",
    "from selenium.webdriver.common.by import By\n",
    "from selenium.webdriver.common.keys import Keys"
   ]
  },
  {
   "cell_type": "code",
   "execution_count": 100,
   "id": "a761dc1c",
   "metadata": {},
   "outputs": [],
   "source": [
    "driver = webdriver.Chrome()\n",
    "driver.get('https://diabetesatlas.org/data/en/')\n",
    "driver.maximize_window()\n",
    "time.sleep(2)\n",
    "driver.find_element_by_class_name('idf-intro-clos').click()\n",
    "time.sleep(2)\n",
    "\n",
    "dropdown = driver.find_element(By.NAME, \"idf_country_list\")\n",
    "selector = Select(dropdown)\n",
    "\n",
    "# Waiting for the values to load\n",
    "element = WebDriverWait(driver,10).until(EC.element_to_be_selected(selector.options[0]))\n",
    "\n",
    "options = selector.options\n",
    "\n",
    "# Now having all the option values of the dropdown, we are going to retrieve the text values (countries)\n",
    "countries = [options[i].text for i in range(1,len(options))]\n",
    "\n",
    "# Having retrieved the text values of all countries, we proceed on retrieving all the xls files \n",
    "# from each page for each country using a for loop\n",
    "\n",
    "for i in countries:\n",
    "    search = driver.find_element_by_xpath('//*[@id=\"ct-form\"]/span').click()\n",
    "    search2 = driver.find_element_by_xpath('/html/body/span/span/span[1]/input')\n",
    "    search2.send_keys(i)\n",
    "    search2.send_keys(Keys.ENTER)\n",
    "    excel_file = driver.find_element_by_class_name('ct-download-xls').send_keys(Keys.ENTER)\n",
    "    driver.back()\n",
    "    time.sleep(2)\n",
    "    \n",
    "driver.close()"
   ]
  },
  {
   "cell_type": "code",
   "execution_count": null,
   "id": "eac43170",
   "metadata": {},
   "outputs": [],
   "source": []
  }
 ],
 "metadata": {
  "kernelspec": {
   "display_name": "Python 3",
   "language": "python",
   "name": "python3"
  },
  "language_info": {
   "codemirror_mode": {
    "name": "ipython",
    "version": 3
   },
   "file_extension": ".py",
   "mimetype": "text/x-python",
   "name": "python",
   "nbconvert_exporter": "python",
   "pygments_lexer": "ipython3",
   "version": "3.8.8"
  }
 },
 "nbformat": 4,
 "nbformat_minor": 5
}
